{
 "cells": [
  {
   "cell_type": "markdown",
   "id": "d4dba35a-1f43-4163-808a-6ed300b25aa3",
   "metadata": {},
   "source": [
    "# Extracting Car Radio Photos from my Photos Library\n",
    "\n",
    "Often when I'm driving, I'll hear a song on the radio that I like. I've gotten in this bad habit\n",
    "of using my phone while driving to take a quick picture of the radio (I only take photos when I'm stopped). The thought is that one day I'll go back through my photos, find the images of the car radio, then make a Spotify playlist. \n",
    "\n",
    "The first step is to build a DL model that can find all (or a reasonably good number of) the car radio photos. \n",
    "\n",
    "To accomplish this I have used PyTorch and osxphotos. The plan was to use transfer-learning from a previously built CNN on the fewest number of samples I could provide. "
   ]
  },
  {
   "cell_type": "markdown",
   "id": "5ba38f44-59f7-4a3b-a3ef-6170e9de8a22",
   "metadata": {},
   "source": [
    "## Training Data\n",
    "First, I created a new album in my Photos library called \"car radio\". I hand-selected ~30 photos of the car radio that I was able to quickly find. These photos look like\n"
   ]
  },
  {
   "cell_type": "markdown",
   "id": "777947d2-cad8-47b8-bda2-907ae4177d70",
   "metadata": {},
   "source": [
    "## Photo Extraction\n",
    "The `osxphotos` Python package reads the Photos.app SQLITE table and extracts a sufficient amount of information that I need. "
   ]
  }
 ],
 "metadata": {
  "kernelspec": {
   "display_name": "Python 3 (ipykernel)",
   "language": "python",
   "name": "python3"
  },
  "language_info": {
   "codemirror_mode": {
    "name": "ipython",
    "version": 3
   },
   "file_extension": ".py",
   "mimetype": "text/x-python",
   "name": "python",
   "nbconvert_exporter": "python",
   "pygments_lexer": "ipython3",
   "version": "3.10.10"
  }
 },
 "nbformat": 4,
 "nbformat_minor": 5
}
